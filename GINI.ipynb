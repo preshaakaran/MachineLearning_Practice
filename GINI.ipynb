{
  "nbformat": 4,
  "nbformat_minor": 0,
  "metadata": {
    "colab": {
      "provenance": []
    },
    "kernelspec": {
      "name": "python3",
      "display_name": "Python 3"
    },
    "language_info": {
      "name": "python"
    }
  },
  "cells": [
    {
      "cell_type": "code",
      "execution_count": null,
      "metadata": {
        "id": "nXCXa7bFMYHs"
      },
      "outputs": [],
      "source": [
        "import pandas as pd\n",
        "import numpy as np\n",
        "\n",
        "df=pd.read_csv(\"gini.csv\",encoding='latin-1', sep=';')"
      ]
    },
    {
      "cell_type": "code",
      "source": [
        "def calculate_gini(y):\n",
        "    unique_labels, counts = np.unique(y, return_counts=True)\n",
        "    total_count = np.sum(counts)\n",
        "    probabilities = counts / total_count\n",
        "    gini = 1 - np.sum(probabilities**2)\n",
        "    return gini\n",
        "\n"
      ],
      "metadata": {
        "id": "vlmgpyuVPPiV"
      },
      "execution_count": null,
      "outputs": []
    },
    {
      "cell_type": "code",
      "source": [
        "y = np.array([1, 1, 0, 1, 0])\n",
        "gini_index = calculate_gini(y)\n",
        "print(gini_index)"
      ],
      "metadata": {
        "colab": {
          "base_uri": "https://localhost:8080/"
        },
        "id": "ZzMEA6r1QYHH",
        "outputId": "4297b1b8-5c93-4c92-8270-582454ef6b04"
      },
      "execution_count": null,
      "outputs": [
        {
          "output_type": "stream",
          "name": "stdout",
          "text": [
            "0.48\n"
          ]
        }
      ]
    },
    {
      "cell_type": "code",
      "source": [
        "import pandas as pd\n",
        "import numpy as np\n",
        "\n",
        "df = pd.DataFrame({\n",
        "    'Income': ['High', 'Low', 'High', 'Middle', 'Low', 'High',\n",
        "               'Low', 'Low', 'Middle', 'Middle'],\n",
        "    'Education': ['Low', 'High', 'Low', 'High', 'Low', 'Low',\n",
        "                  'High', 'Low', 'Low', 'High'],\n",
        "    'Gender': ['Male', 'Female', 'Male', 'Male', 'Male', 'Female',\n",
        "               'Male', 'Male', 'Female', 'Male'],\n",
        "    'Buys Gadget': ['Yes', 'No', 'Yes', 'Yes', 'No', 'No',\n",
        "                    'No', 'No', 'No', 'Yes']\n",
        "})\n",
        "\n",
        "\n",
        "df1 = df.iloc[:,-1:]\n",
        "df2 = df.iloc[:,:-1]\n",
        "dict2 = {}\n",
        "unqlis2 = df1.columns.unique()\n",
        "for i in df2.columns:\n",
        "  list3 = []\n",
        "  w_avg = []\n",
        "  unqlis = df2[i].unique()\n",
        "  print()\n",
        "  print(\"Finding for \",i)\n",
        "  for k in unqlis:\n",
        "    val = df2[df2[i] == k][i].count()/df2.shape[0]\n",
        "    list3.append(val)\n",
        "    g_vh=0\n",
        "    countlist = []\n",
        "    for a in df1.iloc[:,0].unique():\n",
        "      c1 = 0;\n",
        "      for j in range(df2.shape[0]):\n",
        "        if df2[i][j] == k:\n",
        "          if df1.iloc[j,0] == a:\n",
        "            c1 = c1 + 1\n",
        "      countlist.append(c1)\n",
        "    for c in countlist:\n",
        "      g_vh = g_vh + (c/sum(countlist)) **2\n",
        "    w_avg.append((1-g_vh))\n",
        "    print(\"Gini index of \",k,\" = \",(1-g_vh))\n",
        "  w_ans = 0\n",
        "  for m in range(len(w_avg)):\n",
        "    w_ans = w_ans + (w_avg[m] * list3[m])\n",
        "  print(\"Weighted Average of \",i,\" = \",w_ans)\n",
        "  dict2[i] = w_ans\n",
        "\n",
        "temp = min(dict2.values())\n",
        "res = [key for key in dict2 if dict2[key] == temp]"
      ],
      "metadata": {
        "colab": {
          "base_uri": "https://localhost:8080/"
        },
        "id": "zatcHsymQeWY",
        "outputId": "e6e05b5c-91a2-4745-d542-0189299fb56a"
      },
      "execution_count": null,
      "outputs": [
        {
          "output_type": "stream",
          "name": "stdout",
          "text": [
            "\n",
            "Finding for  Income\n",
            "Gini index of  High  =  0.4444444444444444\n",
            "Gini index of  Low  =  0.0\n",
            "Gini index of  Middle  =  0.4444444444444444\n",
            "Weighted Average of  Income  =  0.26666666666666666\n",
            "\n",
            "Finding for  Education\n",
            "Gini index of  Low  =  0.4444444444444444\n",
            "Gini index of  High  =  0.5\n",
            "Weighted Average of  Education  =  0.4666666666666667\n",
            "\n",
            "Finding for  Gender\n",
            "Gini index of  Male  =  0.48979591836734704\n",
            "Gini index of  Female  =  0.0\n",
            "Weighted Average of  Gender  =  0.3428571428571429\n"
          ]
        }
      ]
    },
    {
      "cell_type": "code",
      "source": [
        "print(\"Best Attribute to split = \",res[0])"
      ],
      "metadata": {
        "colab": {
          "base_uri": "https://localhost:8080/"
        },
        "id": "i_5-I8mDTHxv",
        "outputId": "eee52e84-0a67-41da-b873-7403dd2310e7"
      },
      "execution_count": null,
      "outputs": [
        {
          "output_type": "stream",
          "name": "stdout",
          "text": [
            "Best Attribute to split =  Income\n"
          ]
        }
      ]
    },
    {
      "cell_type": "code",
      "source": [
        "import pandas as pd\n",
        "import numpy as np\n",
        "from sklearn import datasets\n",
        "\n",
        "iris = datasets.load_iris()\n",
        "df = pd.DataFrame(data= np.c_[iris['data'], iris['target']],\n",
        "                     columns= iris['feature_names'] + ['target'])\n",
        "\n",
        "df1 = df.iloc[:,-1:]\n",
        "df2 = df.iloc[:,:-1]\n",
        "dict2 = {}\n",
        "unqlis2 = df1.columns.unique()\n",
        "for i in df2.columns:\n",
        "  list3 = []\n",
        "  w_avg = []\n",
        "  unqlis = df2[i].unique()\n",
        "  print()\n",
        "  print(\"Finding for \",i)\n",
        "  for k in unqlis:\n",
        "    val = df2[df2[i] == k][i].count()/df2.shape[0]\n",
        "    list3.append(val)\n",
        "    g_vh=0\n",
        "    countlist = []\n",
        "    for a in df1.iloc[:,0].unique():\n",
        "      c1 = 0;\n",
        "      for j in range(df2.shape[0]):\n",
        "        if df2[i][j] == k:\n",
        "          if df1.iloc[j,0] == a:\n",
        "            c1 = c1 + 1\n",
        "      countlist.append(c1)\n",
        "    for c in countlist:\n",
        "      g_vh = g_vh + (c/sum(countlist)) **2\n",
        "    w_avg.append((1-g_vh))\n",
        "    print(\"Gini index of \",k,\" = \",(1-g_vh))\n",
        "  w_ans = 0\n",
        "  for m in range(len(w_avg)):\n",
        "    w_ans = w_ans + (w_avg[m] * list3[m])\n",
        "  print(\"Weighted Average of \",i,\" = \",w_ans)\n",
        "  dict2[i] = w_ans\n",
        "\n",
        "temp = min(dict2.values())\n",
        "res = [key for key in dict2 if dict2[key] == temp]\n",
        "print(\"Best Attribute to split = \",res[0])\n"
      ],
      "metadata": {
        "colab": {
          "base_uri": "https://localhost:8080/"
        },
        "id": "OwFFoeQlTzdH",
        "outputId": "d71650e6-ecc6-44f5-869d-e75fa455564d"
      },
      "execution_count": null,
      "outputs": [
        {
          "output_type": "stream",
          "name": "stdout",
          "text": [
            "\n",
            "Finding for  sepal length (cm)\n",
            "Gini index of  5.1  =  0.19753086419753085\n",
            "Gini index of  4.9  =  0.5\n",
            "Gini index of  4.7  =  0.0\n",
            "Gini index of  4.6  =  0.0\n",
            "Gini index of  5.0  =  0.31999999999999984\n",
            "Gini index of  5.4  =  0.2777777777777777\n",
            "Gini index of  4.4  =  0.0\n",
            "Gini index of  4.8  =  0.0\n",
            "Gini index of  4.3  =  0.0\n",
            "Gini index of  5.8  =  0.6122448979591837\n",
            "Gini index of  5.7  =  0.53125\n",
            "Gini index of  5.2  =  0.375\n",
            "Gini index of  5.5  =  0.40816326530612246\n",
            "Gini index of  4.5  =  0.0\n",
            "Gini index of  5.3  =  0.0\n",
            "Gini index of  7.0  =  0.0\n",
            "Gini index of  6.4  =  0.40816326530612246\n",
            "Gini index of  6.9  =  0.375\n",
            "Gini index of  6.5  =  0.31999999999999984\n",
            "Gini index of  6.3  =  0.4444444444444444\n",
            "Gini index of  6.6  =  0.0\n",
            "Gini index of  5.9  =  0.4444444444444444\n",
            "Gini index of  6.0  =  0.4444444444444444\n",
            "Gini index of  6.1  =  0.4444444444444444\n",
            "Gini index of  5.6  =  0.2777777777777777\n",
            "Gini index of  6.7  =  0.46875\n",
            "Gini index of  6.2  =  0.5\n",
            "Gini index of  6.8  =  0.4444444444444444\n",
            "Gini index of  7.1  =  0.0\n",
            "Gini index of  7.6  =  0.0\n",
            "Gini index of  7.3  =  0.0\n",
            "Gini index of  7.2  =  0.0\n",
            "Gini index of  7.7  =  0.0\n",
            "Gini index of  7.4  =  0.0\n",
            "Gini index of  7.9  =  0.0\n",
            "Weighted Average of  sepal length (cm)  =  0.3194074074074074\n",
            "\n",
            "Finding for  sepal width (cm)\n",
            "Gini index of  3.5  =  0.0\n",
            "Gini index of  3.0  =  0.6390532544378698\n",
            "Gini index of  3.2  =  0.650887573964497\n",
            "Gini index of  3.1  =  0.6611570247933884\n",
            "Gini index of  3.6  =  0.375\n",
            "Gini index of  3.9  =  0.0\n",
            "Gini index of  3.4  =  0.4027777777777778\n",
            "Gini index of  2.9  =  0.4600000000000001\n",
            "Gini index of  3.7  =  0.0\n",
            "Gini index of  4.0  =  0.0\n",
            "Gini index of  4.4  =  0.0\n",
            "Gini index of  3.8  =  0.4444444444444444\n",
            "Gini index of  3.3  =  0.6111111111111112\n",
            "Gini index of  4.1  =  0.0\n",
            "Gini index of  4.2  =  0.0\n",
            "Gini index of  2.3  =  0.375\n",
            "Gini index of  2.8  =  0.48979591836734704\n",
            "Gini index of  2.4  =  0.0\n",
            "Gini index of  2.7  =  0.49382716049382713\n",
            "Gini index of  2.0  =  0.0\n",
            "Gini index of  2.2  =  0.4444444444444444\n",
            "Gini index of  2.5  =  0.5\n",
            "Gini index of  2.6  =  0.48\n",
            "Weighted Average of  sepal width (cm)  =  0.4676749176749177\n",
            "\n",
            "Finding for  petal length (cm)\n",
            "Gini index of  1.4  =  0.0\n",
            "Gini index of  1.3  =  0.0\n",
            "Gini index of  1.5  =  0.0\n",
            "Gini index of  1.7  =  0.0\n",
            "Gini index of  1.6  =  0.0\n",
            "Gini index of  1.1  =  0.0\n",
            "Gini index of  1.2  =  0.0\n",
            "Gini index of  1.0  =  0.0\n",
            "Gini index of  1.9  =  0.0\n",
            "Gini index of  4.7  =  0.0\n",
            "Gini index of  4.5  =  0.21875\n",
            "Gini index of  4.9  =  0.48\n",
            "Gini index of  4.0  =  0.0\n",
            "Gini index of  4.6  =  0.0\n",
            "Gini index of  3.3  =  0.0\n",
            "Gini index of  3.9  =  0.0\n",
            "Gini index of  3.5  =  0.0\n",
            "Gini index of  4.2  =  0.0\n",
            "Gini index of  3.6  =  0.0\n",
            "Gini index of  4.4  =  0.0\n",
            "Gini index of  4.1  =  0.0\n",
            "Gini index of  4.8  =  0.5\n",
            "Gini index of  4.3  =  0.0\n",
            "Gini index of  5.0  =  0.375\n",
            "Gini index of  3.8  =  0.0\n",
            "Gini index of  3.7  =  0.0\n",
            "Gini index of  5.1  =  0.21875\n",
            "Gini index of  3.0  =  0.0\n",
            "Gini index of  6.0  =  0.0\n",
            "Gini index of  5.9  =  0.0\n",
            "Gini index of  5.6  =  0.0\n",
            "Gini index of  5.8  =  0.0\n",
            "Gini index of  6.6  =  0.0\n",
            "Gini index of  6.3  =  0.0\n",
            "Gini index of  6.1  =  0.0\n",
            "Gini index of  5.3  =  0.0\n",
            "Gini index of  5.5  =  0.0\n",
            "Gini index of  6.7  =  0.0\n",
            "Gini index of  6.9  =  0.0\n",
            "Gini index of  5.7  =  0.0\n",
            "Gini index of  6.4  =  0.0\n",
            "Gini index of  5.4  =  0.0\n",
            "Gini index of  5.2  =  0.0\n",
            "Weighted Average of  petal length (cm)  =  0.06266666666666668\n",
            "\n",
            "Finding for  petal width (cm)\n",
            "Gini index of  0.2  =  0.0\n",
            "Gini index of  0.4  =  0.0\n",
            "Gini index of  0.3  =  0.0\n",
            "Gini index of  0.1  =  0.0\n",
            "Gini index of  0.5  =  0.0\n",
            "Gini index of  0.6  =  0.0\n",
            "Gini index of  1.4  =  0.21875\n",
            "Gini index of  1.5  =  0.2777777777777777\n",
            "Gini index of  1.3  =  0.0\n",
            "Gini index of  1.6  =  0.375\n",
            "Gini index of  1.0  =  0.0\n",
            "Gini index of  1.1  =  0.0\n",
            "Gini index of  1.8  =  0.1527777777777779\n",
            "Gini index of  1.2  =  0.0\n",
            "Gini index of  1.7  =  0.5\n",
            "Gini index of  2.5  =  0.0\n",
            "Gini index of  1.9  =  0.0\n",
            "Gini index of  2.1  =  0.0\n",
            "Gini index of  2.2  =  0.0\n",
            "Gini index of  2.0  =  0.0\n",
            "Gini index of  2.4  =  0.0\n",
            "Gini index of  2.3  =  0.0\n",
            "Weighted Average of  petal width (cm)  =  0.06277777777777778\n",
            "Best Attribute to split =  petal length (cm)\n"
          ]
        }
      ]
    },
    {
      "cell_type": "code",
      "source": [],
      "metadata": {
        "id": "eEssL29ZWWb9"
      },
      "execution_count": null,
      "outputs": []
    }
  ]
}