{
  "nbformat": 4,
  "nbformat_minor": 0,
  "metadata": {
    "colab": {
      "provenance": []
    },
    "kernelspec": {
      "name": "python3",
      "display_name": "Python 3"
    },
    "language_info": {
      "name": "python"
    }
  },
  "cells": [
    {
      "cell_type": "code",
      "execution_count": null,
      "metadata": {
        "id": "smds7cvWcsqj"
      },
      "outputs": [],
      "source": [
        "import numpy as np\n",
        "import pandas as pd\n",
        "import matplotlib.pyplot as plt\n",
        "from sklearn.datasets import make_classification\n",
        "from sklearn.model_selection import train_test_split\n",
        "from sklearn.ensemble import RandomForestClassifier, GradientBoostingClassifier\n",
        "from sklearn.tree import DecisionTreeClassifier\n",
        "from sklearn.naive_bayes import GaussianNB\n",
        "from sklearn.neighbors import KNeighborsClassifier\n",
        "from sklearn.metrics import accuracy_score"
      ]
    },
    {
      "cell_type": "markdown",
      "source": [
        "# Step 1: Generate a synthetic dataset"
      ],
      "metadata": {
        "id": "uuHMMvN2e1Z4"
      }
    },
    {
      "cell_type": "code",
      "source": [
        "X, y = make_classification(n_samples=1000,\n",
        "                           n_features=20,\n",
        "                           n_informative=2,\n",
        "                           n_redundant=10,\n",
        "                           n_clusters_per_class=1,\n",
        "                           random_state=42)\n",
        "\n",
        "# Print shapes of X and y\n",
        "print(f\"X shape: {X.shape}, y shape: {y.shape}\")"
      ],
      "metadata": {
        "colab": {
          "base_uri": "https://localhost:8080/"
        },
        "id": "0nqQE2ejeA1T",
        "outputId": "b007a7be-3f4d-4b97-fbf3-1c81beffd42d"
      },
      "execution_count": null,
      "outputs": [
        {
          "output_type": "stream",
          "name": "stdout",
          "text": [
            "X shape: (1000, 20), y shape: (1000,)\n"
          ]
        }
      ]
    },
    {
      "cell_type": "markdown",
      "source": [
        "# Step 2: Split the dataset into training and testing sets"
      ],
      "metadata": {
        "id": "1ObrCNdxe8-5"
      }
    },
    {
      "cell_type": "code",
      "source": [
        "X_train, X_test, y_train, y_test = train_test_split(X, y, test_size=0.3, random_state=42)\n",
        "\n",
        "# Print shapes of the train and test sets\n",
        "print(f\"X_train shape: {X_train.shape}, y_train shape: {y_train.shape}\")\n",
        "print(f\"X_test shape: {X_test.shape}, y_test shape: {y_test.shape}\")"
      ],
      "metadata": {
        "colab": {
          "base_uri": "https://localhost:8080/"
        },
        "id": "C0Hy_Obde4fB",
        "outputId": "73b0ad40-1c10-4687-d85b-47c19113645f"
      },
      "execution_count": null,
      "outputs": [
        {
          "output_type": "stream",
          "name": "stdout",
          "text": [
            "X_train shape: (700, 20), y_train shape: (700,)\n",
            "X_test shape: (300, 20), y_test shape: (300,)\n"
          ]
        }
      ]
    },
    {
      "cell_type": "markdown",
      "source": [
        "# Step 3: Import models\n"
      ],
      "metadata": {
        "id": "2cXM4RLqfq34"
      }
    },
    {
      "cell_type": "code",
      "source": [
        "models = {\n",
        "    'Random Forest': RandomForestClassifier(),\n",
        "    'Decision Tree': DecisionTreeClassifier(),\n",
        "    'Gaussian Naive Bayes': GaussianNB(),\n",
        "    'Gradient Boosting': GradientBoostingClassifier(),\n",
        "    'K-Neighbors': KNeighborsClassifier()\n",
        "}"
      ],
      "metadata": {
        "id": "a76ZmZfVfoIg"
      },
      "execution_count": null,
      "outputs": []
    },
    {
      "cell_type": "markdown",
      "source": [
        "# Step 4: Define a function to build and evaluate models"
      ],
      "metadata": {
        "id": "ta8WM42hfuDA"
      }
    },
    {
      "cell_type": "code",
      "source": [
        "def evaluate_models(models, X_train, y_train, X_test, y_test):\n",
        "    scores = {}\n",
        "    for name, model in models.items():\n",
        "        model.fit(X_train, y_train)\n",
        "        y_pred = model.predict(X_test)\n",
        "        accuracy = accuracy_score(y_test, y_pred)\n",
        "        scores[name] = accuracy\n",
        "        print(f\"{name} Accuracy: {accuracy:.4f}\")\n",
        "    return scores"
      ],
      "metadata": {
        "id": "iMNV6TzufsXg"
      },
      "execution_count": null,
      "outputs": []
    },
    {
      "cell_type": "markdown",
      "source": [
        "# Step 5: Evaluate the models"
      ],
      "metadata": {
        "id": "ZLON75Ymfy7A"
      }
    },
    {
      "cell_type": "code",
      "source": [
        "scores = evaluate_models(models, X_train, y_train, X_test, y_test)"
      ],
      "metadata": {
        "colab": {
          "base_uri": "https://localhost:8080/"
        },
        "id": "mE4tL63Vfv54",
        "outputId": "6ee4b867-a7ff-4589-92d3-6bc84f6b360b"
      },
      "execution_count": null,
      "outputs": [
        {
          "output_type": "stream",
          "name": "stdout",
          "text": [
            "Random Forest Accuracy: 0.9400\n",
            "Decision Tree Accuracy: 0.8800\n",
            "Gaussian Naive Bayes Accuracy: 0.9333\n",
            "Gradient Boosting Accuracy: 0.9233\n",
            "K-Neighbors Accuracy: 0.9300\n"
          ]
        }
      ]
    },
    {
      "cell_type": "markdown",
      "source": [
        "# Step 6: Visualize the scores"
      ],
      "metadata": {
        "id": "R-aeRCPYf3JZ"
      }
    },
    {
      "cell_type": "code",
      "source": [
        "plt.figure(figsize=(10, 5))\n",
        "plt.bar(scores.keys(), scores.values(), color='skyblue')\n",
        "plt.xlabel('Models')\n",
        "plt.ylabel('Accuracy Score')\n",
        "plt.title('Model Accuracy Comparison')\n",
        "plt.xticks(rotation=45)\n",
        "plt.ylim(0, 1)\n",
        "plt.show()"
      ],
      "metadata": {
        "colab": {
          "base_uri": "https://localhost:8080/",
          "height": 592
        },
        "id": "RxE8fScgf0p4",
        "outputId": "a8a9d51b-b23d-48a7-c092-38c8d69493cb"
      },
      "execution_count": null,
      "outputs": [
        {
          "output_type": "display_data",
          "data": {
            "text/plain": [
              "<Figure size 1000x500 with 1 Axes>"
            ],
            "image/png": "[encoded data removed]"
          },
          "metadata": {}
        }
      ]
    },
    {
      "cell_type": "markdown",
      "source": [
        "# Step 7: Conclude the best model"
      ],
      "metadata": {
        "id": "-qFeM7CDf7Rq"
      }
    },
    {
      "cell_type": "code",
      "source": [
        "best_model = max(scores, key=scores.get)\n",
        "print(f\"The best model is: {best_model} with an accuracy of {scores[best_model]:.4f}\")"
      ],
      "metadata": {
        "colab": {
          "base_uri": "https://localhost:8080/"
        },
        "id": "rt-BeXEtf5Ni",
        "outputId": "0aea6243-5d4f-459f-a4ec-10f1c9acaee6"
      },
      "execution_count": null,
      "outputs": [
        {
          "output_type": "stream",
          "name": "stdout",
          "text": [
            "The best model is: Random Forest with an accuracy of 0.9400\n"
          ]
        }
      ]
    },
    {
      "cell_type": "code",
      "source": [],
      "metadata": {
        "id": "3zEwXYrrf9LS"
      },
      "execution_count": null,
      "outputs": []
    }
  ]
}